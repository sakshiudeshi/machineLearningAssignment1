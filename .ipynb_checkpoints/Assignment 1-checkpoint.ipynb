{
 "cells": [
  {
   "cell_type": "code",
   "execution_count": null,
   "metadata": {},
   "outputs": [],
   "source": [
    "import nltk\n",
    "import numpy as np\n",
    "import os\n",
    "from nltk import word_tokenize\n",
    "from nltk.util import ngrams\n",
    "from collections import Counter\n",
    "\n",
    "\n",
    "\n",
    "from sklearn.linear_model import perceptron\n",
    "from sklearn.feature_extraction.text import CountVectorizer\n",
    "\n",
    "\n"
   ]
  },
  {
   "cell_type": "code",
   "execution_count": null,
   "metadata": {
    "collapsed": true
   },
   "outputs": [],
   "source": [
    "top_path = \"/Users/sakshiudeshi/Documents/SUTD/Academics/Term 1 Sept - Dec/Machine Learning/Assignment 1/data/train\"\n",
    "\n",
    "\n",
    "acq_files = os.listdir(top_path + \"/acq\")\n",
    "\n",
    "acq_train = []\n",
    "vectorizer = CountVectorizer(stop_words='english')\n",
    "\n",
    "\n",
    "for f in acq_files:\n",
    "\tfd = open(top_path + \"/acq/\" + f, 'r')\n",
    "\tacq_train.append(fd.read())\n",
    "\n",
    "acq_train = tuple(acq_train)\n",
    "\n",
    "acq_vec = vectorizer.fit_transform(acq_train)\n",
    "\n",
    "print type(acq_vec)"
   ]
  }
 ],
 "metadata": {
  "kernelspec": {
   "display_name": "Python 2",
   "language": "python",
   "name": "python2"
  },
  "language_info": {
   "codemirror_mode": {
    "name": "ipython",
    "version": 2
   },
   "file_extension": ".py",
   "mimetype": "text/x-python",
   "name": "python",
   "nbconvert_exporter": "python",
   "pygments_lexer": "ipython2",
   "version": "2.7.13"
  }
 },
 "nbformat": 4,
 "nbformat_minor": 2
}
